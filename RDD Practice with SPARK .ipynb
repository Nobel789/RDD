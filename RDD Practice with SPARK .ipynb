{
 "cells": [
  {
   "cell_type": "code",
   "execution_count": 5,
   "id": "91437ec8",
   "metadata": {},
   "outputs": [
    {
     "name": "stdout",
     "output_type": "stream",
     "text": [
      "Requirement already satisfied: findspark in c:\\users\\nobel\\anaconda3\\lib\\site-packages (2.0.1)\n",
      "Note: you may need to restart the kernel to use updated packages.\n"
     ]
    }
   ],
   "source": [
    "pip install findspark\n"
   ]
  },
  {
   "cell_type": "code",
   "execution_count": 6,
   "id": "c3d68b31",
   "metadata": {},
   "outputs": [],
   "source": [
    "import findspark\n",
    "findspark.init()\n",
    "import pandas as pd\n",
    "import pyspark"
   ]
  },
  {
   "cell_type": "code",
   "execution_count": 10,
   "id": "3d0654d2",
   "metadata": {},
   "outputs": [
    {
     "data": {
      "text/html": [
       "\n",
       "            <div>\n",
       "                <p><b>SparkSession - in-memory</b></p>\n",
       "                \n",
       "        <div>\n",
       "            <p><b>SparkContext</b></p>\n",
       "\n",
       "            <p><a href=\"http://192.168.0.18:4040\">Spark UI</a></p>\n",
       "\n",
       "            <dl>\n",
       "              <dt>Version</dt>\n",
       "                <dd><code>v3.4.1</code></dd>\n",
       "              <dt>Master</dt>\n",
       "                <dd><code>local[*]</code></dd>\n",
       "              <dt>AppName</dt>\n",
       "                <dd><code>example</code></dd>\n",
       "            </dl>\n",
       "        </div>\n",
       "        \n",
       "            </div>\n",
       "        "
      ],
      "text/plain": [
       "<pyspark.sql.session.SparkSession at 0x1ea51a4b1d0>"
      ]
     },
     "execution_count": 10,
     "metadata": {},
     "output_type": "execute_result"
    }
   ],
   "source": [
    "from pyspark.sql import SparkSession\n",
    "\n",
    "spark = SparkSession.builder.master(\"local[*]\").appName(\"pyspark_training\").getOrCreate()\n",
    "spark\n"
   ]
  },
  {
   "cell_type": "code",
   "execution_count": 11,
   "id": "0c77406a",
   "metadata": {},
   "outputs": [],
   "source": [
    "sc= spark.sparkContext"
   ]
  },
  {
   "cell_type": "code",
   "execution_count": null,
   "id": "6fe979d0",
   "metadata": {},
   "outputs": [],
   "source": [
    "#Create RDD from  acollection , when data is parallelize, u need to bring them by collect()"
   ]
  },
  {
   "cell_type": "code",
   "execution_count": 13,
   "id": "f61d37b0",
   "metadata": {},
   "outputs": [
    {
     "data": {
      "text/plain": [
       "[1, 2, 3, 4, 5, 6]"
      ]
     },
     "execution_count": 13,
     "metadata": {},
     "output_type": "execute_result"
    }
   ],
   "source": [
    "num = [1,2,3,4,5,6]\n",
    "num_rdd = sc.parallelize(num)\n",
    "num_rdd.collect()"
   ]
  },
  {
   "cell_type": "markdown",
   "id": "ad3835e4",
   "metadata": {},
   "source": [
    "#Different Transformation action , Transformation is lazy in natrue ,,it will not be executed unitll action executed\n"
   ]
  },
  {
   "cell_type": "code",
   "execution_count": 16,
   "id": "f883c2b6",
   "metadata": {},
   "outputs": [
    {
     "data": {
      "text/plain": [
       "[2, 4, 6, 8, 10, 12]"
      ]
     },
     "execution_count": 16,
     "metadata": {},
     "output_type": "execute_result"
    }
   ],
   "source": [
    "#MAP, this will map your input to output  based on the function specifies in map function \n",
    "# ibn this function we will multiply the value of  x by 2 and x will be althe entries of RDD\n",
    "#as we rember RDD is 1 to 5, so its iterate 1to 5 and multiply by 2\n",
    "double_rdd = num_rdd.map(lambda x : x *2)\n",
    "double_rdd.collect()"
   ]
  },
  {
   "cell_type": "code",
   "execution_count": 18,
   "id": "64d82c41",
   "metadata": {},
   "outputs": [
    {
     "data": {
      "text/plain": [
       "[2, 4, 6]"
      ]
     },
     "execution_count": 18,
     "metadata": {},
     "output_type": "execute_result"
    }
   ],
   "source": [
    "#FILTER, use for filter data based on a certain condition , fin the even no from num_rdd\n",
    "even_rdd = num_rdd.filter(lambda x : x % 2 == 0)\n",
    "even_rdd.collect()\n"
   ]
  },
  {
   "cell_type": "code",
   "execution_count": 20,
   "id": "50c7d98b",
   "metadata": {},
   "outputs": [
    {
     "data": {
      "text/plain": [
       "[1, 1, 2, 1, 2, 3, 1, 2, 3, 4, 1, 2, 3, 4, 5]"
      ]
     },
     "execution_count": 20,
     "metadata": {},
     "output_type": "execute_result"
    }
   ],
   "source": [
    "#FLATMAP, this function similler to map, but return multiple element  in range  for each entry of given rdd\n",
    "flat_rdd = num_rdd.flatMap(lambda x : range(1,x))\n",
    "flat_rdd.collect()\n"
   ]
  },
  {
   "cell_type": "code",
   "execution_count": 23,
   "id": "dd7b1fda",
   "metadata": {},
   "outputs": [
    {
     "data": {
      "text/plain": [
       "[12, 13, 5, 10, 7]"
      ]
     },
     "execution_count": 23,
     "metadata": {},
     "output_type": "execute_result"
    }
   ],
   "source": [
    "#DISTINCT, its find distinct element from RDD\n",
    "rdd1 = sc.parallelize([10,12,10,13,5,7,5,12])\n",
    "dist_rdd = rdd1.distinct()\n",
    "dist_rdd.collect()"
   ]
  },
  {
   "cell_type": "code",
   "execution_count": 26,
   "id": "47013d5c",
   "metadata": {},
   "outputs": [
    {
     "data": {
      "text/plain": [
       "[('b', 14), ('c', 14), ('a', 8)]"
      ]
     },
     "execution_count": 26,
     "metadata": {},
     "output_type": "execute_result"
    }
   ],
   "source": [
    "#REduce by key , this functiocn reduce pair based on key and arithmetic operator in here sum , so it sum all value of specific key\n",
    "pairs = [(\"a\", 5), (\"b\", 6), (\"c\", 7), (\"a\", 3), (\"b\", 8), (\"c\", 7)]\n",
    "\n",
    "pairs_add = sc.parallelize(pairs)\n",
    "output = pairs_add.reduceByKey(lambda x,y:x+y)\n",
    "result = output.collect()\n",
    "result"
   ]
  },
  {
   "cell_type": "code",
   "execution_count": 28,
   "id": "600db77f",
   "metadata": {},
   "outputs": [
    {
     "data": {
      "text/plain": [
       "[('b', <pyspark.resultiterable.ResultIterable at 0x1ea55344ed0>),\n",
       " ('c', <pyspark.resultiterable.ResultIterable at 0x1ea552cd510>),\n",
       " ('a', <pyspark.resultiterable.ResultIterable at 0x1ea552c7d50>)]"
      ]
     },
     "execution_count": 28,
     "metadata": {},
     "output_type": "execute_result"
    }
   ],
   "source": [
    "#GROUPBYKEY , its group the valus based on key \n",
    "group_out = pairs_add.groupByKey()\n",
    "group_out.collect()"
   ]
  },
  {
   "cell_type": "code",
   "execution_count": 30,
   "id": "b0a3742c",
   "metadata": {},
   "outputs": [
    {
     "data": {
      "text/plain": [
       "[('a', 5), ('a', 3), ('b', 6), ('b', 8), ('c', 7), ('c', 7)]"
      ]
     },
     "execution_count": 30,
     "metadata": {},
     "output_type": "execute_result"
    }
   ],
   "source": [
    "#sort by key, its sort the pair based on key\n",
    "sortkey_rdd = pairs_add.sortByKey()\n",
    "result = sortkey_rdd.collect()\n",
    "result"
   ]
  },
  {
   "cell_type": "code",
   "execution_count": 32,
   "id": "e92c6ca2",
   "metadata": {},
   "outputs": [
    {
     "data": {
      "text/plain": [
       "[('a', 7, 5), ('d', 13, 9), ('b', 6, 10), ('c', 8, 10)]"
      ]
     },
     "execution_count": 32,
     "metadata": {},
     "output_type": "execute_result"
    }
   ],
   "source": [
    "#sortBY\n",
    "pairs = [(\"a\", 7, 5), (\"b\", 6, 10), (\"c\", 8, 10), (\"d\", 13, 9)]\n",
    "raw_add = sc.parallelize(pairs)\n",
    "sort_out = raw_add.sortBy(lambda x: x[2])\n",
    "result = sort_out.collect()\n",
    "result\n"
   ]
  },
  {
   "cell_type": "markdown",
   "id": "a3301978",
   "metadata": {},
   "source": [
    "#Actions"
   ]
  },
  {
   "cell_type": "code",
   "execution_count": null,
   "id": "cdff53c9",
   "metadata": {},
   "outputs": [],
   "source": [
    "#Action are operation execcuted immediatedly,while transformation return anouther RDD\n"
   ]
  },
  {
   "cell_type": "code",
   "execution_count": 34,
   "id": "af8b444b",
   "metadata": {},
   "outputs": [
    {
     "data": {
      "text/plain": [
       "5"
      ]
     },
     "execution_count": 34,
     "metadata": {},
     "output_type": "execute_result"
    }
   ],
   "source": [
    "#COUNT, return the no of item in given RDD\n",
    "num = sc.parallelize([1,2,3,4,56])\n",
    "num.count()"
   ]
  },
  {
   "cell_type": "code",
   "execution_count": 35,
   "id": "d0923d16",
   "metadata": {},
   "outputs": [
    {
     "data": {
      "text/plain": [
       "1"
      ]
     },
     "execution_count": 35,
     "metadata": {},
     "output_type": "execute_result"
    }
   ],
   "source": [
    "#FIRST, return first element of given RDD\n",
    "num.first()"
   ]
  },
  {
   "cell_type": "code",
   "execution_count": 36,
   "id": "7ce45761",
   "metadata": {},
   "outputs": [
    {
     "data": {
      "text/plain": [
       "[1, 2, 3, 4, 56]"
      ]
     },
     "execution_count": 36,
     "metadata": {},
     "output_type": "execute_result"
    }
   ],
   "source": [
    "#collect, return element of given RDD\n",
    "num.collect()"
   ]
  },
  {
   "cell_type": "code",
   "execution_count": null,
   "id": "a8fbe895",
   "metadata": {},
   "outputs": [],
   "source": [
    "#### Remember we will not use Collect() when dealing with large amount of data , because its hamper the performance, because\n",
    "# it will return the all the data that is distributed  between the differnt node and also the driver  need to store the data"
   ]
  },
  {
   "cell_type": "code",
   "execution_count": 37,
   "id": "23e76fec",
   "metadata": {},
   "outputs": [
    {
     "data": {
      "text/plain": [
       "[1, 2, 3]"
      ]
     },
     "execution_count": 37,
     "metadata": {},
     "output_type": "execute_result"
    }
   ],
   "source": [
    "#take. this will return the no of item specifie\n",
    "num.take(3)"
   ]
  },
  {
   "cell_type": "code",
   "execution_count": 38,
   "id": "52723cac",
   "metadata": {},
   "outputs": [],
   "source": [
    "## use RDD spark documentation for more operation "
   ]
  },
  {
   "cell_type": "code",
   "execution_count": null,
   "id": "5e5262d6",
   "metadata": {},
   "outputs": [],
   "source": []
  }
 ],
 "metadata": {
  "kernelspec": {
   "display_name": "Python 3 (ipykernel)",
   "language": "python",
   "name": "python3"
  },
  "language_info": {
   "codemirror_mode": {
    "name": "ipython",
    "version": 3
   },
   "file_extension": ".py",
   "mimetype": "text/x-python",
   "name": "python",
   "nbconvert_exporter": "python",
   "pygments_lexer": "ipython3",
   "version": "3.11.5"
  }
 },
 "nbformat": 4,
 "nbformat_minor": 5
}
